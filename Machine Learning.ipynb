{
 "cells": [
  {
   "cell_type": "markdown",
   "id": "2255c97c-fbbd-441f-bccc-7a337c3633d9",
   "metadata": {},
   "source": [
    "# Machine Learning "
   ]
  },
  {
   "cell_type": "markdown",
   "id": "ca82d6da-94ae-4a86-83a2-e01e7ec2f8b2",
   "metadata": {},
   "source": [
    "<center><img src=\"ml.jpg\" style=\"height:350px\"/></center>"
   ]
  },
  {
   "cell_type": "markdown",
   "id": "00afca4c-c73c-4e1a-a07d-60d671b37753",
   "metadata": {},
   "source": [
    "## <i><u>Welcome to Coursera</u></i>!"
   ]
  },
  {
   "cell_type": "markdown",
   "id": "3b558b2f-ecf9-4f2d-9eff-5a202c4c61e0",
   "metadata": {},
   "source": [
    "                                                                                                                  Instructor: Andrew Ng"
   ]
  },
  {
   "cell_type": "markdown",
   "id": "1b83a6dc-0605-46c8-91cc-f8ff8ad7c14c",
   "metadata": {},
   "source": [
    "**Machine Learning :** Field of study that gives computers the ability to learn without being explicitly programmed."
   ]
  },
  {
   "cell_type": "markdown",
   "id": "e7e49ac4-0b70-4241-93ce-e3f6589c6e76",
   "metadata": {},
   "source": [
    "Machine learning algorithms<br>\n",
    "- Supervised learning <br>\n",
    "- Unsupervised learning<br>\n",
    "- Reinforcement learning"
   ]
  },
  {
   "cell_type": "markdown",
   "id": "dc2a705a-f782-460c-a9ff-9bb5bee827ff",
   "metadata": {},
   "source": [
    "## Supervised Learning\n",
    "A set of labeled input-output pairs is fed. The machine learns from being given the 'right answers'.<br>\n",
    "Then machine provides output to new inputs."
   ]
  },
  {
   "cell_type": "markdown",
   "id": "35d07388-51a5-437c-830c-3729009aebc7",
   "metadata": {},
   "source": [
    "There are different types of Supervised learning : <i>Regression</i>, <i>Classification</i>."
   ]
  },
  {
   "cell_type": "markdown",
   "id": "270b31a2-23de-4813-8989-d5848777e6cd",
   "metadata": {},
   "source": [
    "## Unsupervised Learning\n",
    "Unsupervised learning finds something interesting in unlabeled data : <i>Clustering</i>.<br>\n",
    "\n",
    "Data only comes with inputs $x$, but not output labels $y$. Algorithm has to find <i><b>structure</b></i> in the data."
   ]
  },
  {
   "cell_type": "markdown",
   "id": "36c3df2b-cb7f-4619-bd14-7bc7aa9eece1",
   "metadata": {},
   "source": [
    "- <b>Clustering :</b> Group similar data points together.\n",
    "- <b>Dimensionality reduction :</b> Compress data using fewer numbers.\n",
    "- <b>Anomaly detection :</b> Find unusual data points"
   ]
  },
  {
   "cell_type": "markdown",
   "id": "d8c7bdad-1828-4a50-964a-84c35298c7da",
   "metadata": {},
   "source": [
    "---"
   ]
  },
  {
   "cell_type": "markdown",
   "id": "7dc9f2d9-927c-446f-bed9-341da13cd3a3",
   "metadata": {},
   "source": [
    "> ## <u>Optional Lab: Brief introduction to Python and Jupyter Notebooks</u>"
   ]
  },
  {
   "cell_type": "markdown",
   "id": "a3e91ef2-1e8d-400b-be21-1a32000b6045",
   "metadata": {},
   "source": [
    "<br>"
   ]
  },
  {
   "cell_type": "markdown",
   "id": "91fce6fc-4d96-4309-9593-25d2bfb47423",
   "metadata": {},
   "source": [
    "Welcome to the first optional lab! Optional labs are available to:\n",
    "- Provide information - like this notebook\n",
    "- Reinforce lecture material with hands-on examples\n",
    "- Provide working examples of routines used in the graded labs"
   ]
  },
  {
   "cell_type": "markdown",
   "id": "5fa2ce45-97f1-47a2-8662-9045b379d622",
   "metadata": {},
   "source": [
    "## Goals\n",
    "In this lab, you will:\n",
    "- Get a brief introduction to Jupyter notebooks\n",
    "- Take a tour of Jupyter notebooks\n",
    "- Learn the difference between markdown cells and code cells\n",
    "- Practice some basic python"
   ]
  },
  {
   "cell_type": "markdown",
   "id": "db5bcc0e-3938-43ca-9ac9-663a52804826",
   "metadata": {},
   "source": [
    "<b>Print statement</b><br>\n",
    "Print statements will generally use the python f-string style.<br>\n",
    "Try creating your own print in the following cell.<br>\n",
    "Try both methods of running the cell."
   ]
  },
  {
   "cell_type": "code",
   "execution_count": 5,
   "id": "7efab44a-7a9d-4820-bea2-817405cb3d0a",
   "metadata": {},
   "outputs": [
    {
     "name": "stdout",
     "output_type": "stream",
     "text": [
      "f strings allow you to embed variables right in the strings!\n"
     ]
    }
   ],
   "source": [
    "# print statements\n",
    "variable=\"right in the strings!\"\n",
    "print(f\"f strings allow you to embed variables {variable}\")"
   ]
  },
  {
   "cell_type": "markdown",
   "id": "cd629f92-a4de-4b1a-8cb1-34666bf3c49d",
   "metadata": {},
   "source": [
    "## Congratulations!\n",
    "You now know how to find your way around a Jupyter Notebook."
   ]
  },
  {
   "cell_type": "markdown",
   "id": "ca4ba8a7-5aba-424d-8766-8d50d1527eb0",
   "metadata": {},
   "source": [
    "---"
   ]
  },
  {
   "attachments": {},
   "cell_type": "markdown",
   "id": "d031763e-6d24-4e8a-b639-67c7187266ef",
   "metadata": {},
   "source": [
    "> ## <u>Optional Lab: Model Representation</u>\n"
   ]
  },
  {
   "cell_type": "markdown",
   "id": "35c26da9-688e-4f39-a20e-419f9edf0ff1",
   "metadata": {},
   "source": [
    "## Goals\n",
    "In this lab you will:\n",
    "- Learn to implement the model $f_{w,b}$ for linear regression with one variable "
   ]
  },
  {
   "attachments": {},
   "cell_type": "markdown",
   "id": "65b5cef7-86fd-4027-849b-99c36343b514",
   "metadata": {},
   "source": [
    "## Notation\n",
    "Here is a summary of some of the notation you will encounter\n",
    "\n",
    "<center><img src=\"cml2.png\" style=\"height:350px\"/></center>"
   ]
  },
  {
   "cell_type": "markdown",
   "id": "a7462efb-22ed-4308-a9fa-91ed742b0db0",
   "metadata": {},
   "source": [
    "## Tools\n",
    "In this lab you will make use of\n",
    "- NumPy, a popular library for scientific computing\n",
    "- Matplotlib, a popular library for plotting data"
   ]
  },
  {
   "cell_type": "code",
   "execution_count": 5,
   "id": "381d8212-e1a0-48fc-9cb6-f8555b8b77cc",
   "metadata": {},
   "outputs": [],
   "source": [
    "import numpy as np\n",
    "import matplotlib.pyplot as plt\n",
    "plt.style.use('./deeplearning.mplstyle')"
   ]
  },
  {
   "cell_type": "markdown",
   "id": "11fac635-0aac-4d69-a465-9d5bf5579656",
   "metadata": {},
   "source": [
    "<br>"
   ]
  },
  {
   "attachments": {},
   "cell_type": "markdown",
   "id": "3a332060-b6b7-4e75-8c5b-d57bd1063524",
   "metadata": {},
   "source": [
    "## Problem statement\n"
   ]
  },
  {
   "attachments": {
    "5b4f323b-f289-46d5-b2ce-8da6c21ce558.png": {
     "image/png": "[encoded data removed]"
    }
   },
   "cell_type": "markdown",
   "id": "bb3e2e17-856b-4d22-874b-6386fb041d35",
   "metadata": {},
   "source": [
    "As in this lecture, we will use the motivating example of housing price prediction.<br>\n",
    "\n",
    "This lab will use a simple dataset with only two data points - a house with 1000 sqft sold for \\\\$300,000 and a house with 2000 square feet sold for \\$500,000. These two points will constitute our data or training set. In this lab, the units of size are 1000 sqft and the units of price are 1000s of dollars.<br>\n",
    "\n",
    "![cml4.png](attachment:5b4f323b-f289-46d5-b2ce-8da6c21ce558.png)"
   ]
  },
  {
   "cell_type": "markdown",
   "id": "dfc538d4-97ac-40bc-9c06-02001e2037c2",
   "metadata": {},
   "source": [
    "We would like to fit a linear regression model (shown above as the blue straight line)through these two points, so we can then predict price for other houses - say, a house with 1200 sqft."
   ]
  },
  {
   "cell_type": "markdown",
   "id": "6dc99bf7-3b6e-4450-aad4-a29b82cd5614",
   "metadata": {},
   "source": [
    "Let us run the following code to create our '<b>x_train</b>' and '<b>y_train</b>' variables. The data is stored in one-dimensional NumPy arrays."
   ]
  },
  {
   "cell_type": "code",
   "execution_count": 6,
   "id": "f81b2d47-02e0-4b35-8637-49cd4a36ce44",
   "metadata": {},
   "outputs": [
    {
     "name": "stdout",
     "output_type": "stream",
     "text": [
      "x_train = [1. 2.]\n",
      "y_train = [300. 500.]\n"
     ]
    }
   ],
   "source": [
    "# x_train is the input variable (size in 1000 sqft)\n",
    "# y_train is the target (price in 1000s of dollars)\n",
    "x_train=np.array([1.0,2.0])\n",
    "y_train=np.array([300.0, 500.0])\n",
    "print(f\"x_train = {x_train}\")\n",
    "print(f\"y_train = {y_train}\")"
   ]
  },
  {
   "cell_type": "markdown",
   "id": "0f8a5784-9211-432a-8d5b-d8b1a2eafaaa",
   "metadata": {},
   "source": [
    "<br>"
   ]
  },
  {
   "cell_type": "markdown",
   "id": "5171a1a4-3832-4daa-bc5c-70a5efef90b6",
   "metadata": {},
   "source": [
    "## Number of training examples $m$"
   ]
  },
  {
   "cell_type": "markdown",
   "id": "f048ed41-a3de-4f8e-b9e4-f3e855f04653",
   "metadata": {},
   "source": [
    "We will use $m$ to denote the number of training examples. NumPy arrays have a '<b>.shape</b>' parameter. '<b>c_train.shape</b>' returns a python tuple with an entry for each dimension. '<b>x_train.shape$\\,$[$\\,0\\,$]</b>' is the length of the array and number of examples as shown below."
   ]
  },
  {
   "cell_type": "code",
   "execution_count": 7,
   "id": "9977253c-6303-4227-aa12-e0cdf20d7e58",
   "metadata": {},
   "outputs": [
    {
     "name": "stdout",
     "output_type": "stream",
     "text": [
      "x_train.shape: (2,)\n",
      "Number of training examples is: 2\n"
     ]
    }
   ],
   "source": [
    "# m is the number of training examples\n",
    "print(f\"x_train.shape: {x_train.shape}\")\n",
    "m=x_train.shape[0]\n",
    "print(f\"Number of training examples is: {m}\")"
   ]
  },
  {
   "cell_type": "markdown",
   "id": "e0746104-0c4d-45e5-8144-73ed1f49c48d",
   "metadata": {},
   "source": [
    "<br>"
   ]
  },
  {
   "cell_type": "markdown",
   "id": "5d90cbab-a65c-4881-bb8b-ba7bdc57284b",
   "metadata": {},
   "source": [
    "One can also use the Python '<b>len($\\,$)</b>' function as shown below"
   ]
  },
  {
   "cell_type": "code",
   "execution_count": 8,
   "id": "64ac8006-96dc-4bc0-b361-031927c8644b",
   "metadata": {},
   "outputs": [
    {
     "name": "stdout",
     "output_type": "stream",
     "text": [
      "Number of training examples is: 2\n"
     ]
    }
   ],
   "source": [
    "# m is the number of training examples\n",
    "m=len(x_train)\n",
    "print(f\"Number of training examples is: {m}\")"
   ]
  },
  {
   "cell_type": "markdown",
   "id": "32f80dd3-c43d-4dd5-9f34-7774cc0c3926",
   "metadata": {},
   "source": [
    "<br>"
   ]
  },
  {
   "cell_type": "markdown",
   "id": "2f8b02a4-9e38-4c9b-94f7-c7639bae0a28",
   "metadata": {},
   "source": [
    "## Training example '<b>x_i, y_i</b>'"
   ]
  },
  {
   "cell_type": "markdown",
   "id": "8646fc35-8827-4955-a5ba-346cb502b75e",
   "metadata": {},
   "source": [
    "We will use $(x^{\\,(\\,i\\,)},\\,y^{\\,(\\,i\\,)})$ to denote the $i^{th}\\,$ training example. Since Python is zero-indexed, $(x^{\\,(\\,0\\,)},\\,y^{\\,(\\,0\\,)})$ is $(1.0\\,,\\,300.0)$ and $(x^{\\,(\\,1\\,)},\\,y^{\\,(\\,1\\,)})$ is $(2.0\\,,\\,500.0)$.<br>\n",
    "\n",
    "To access a value in a NumPy array, one indexes the array with the desired offset. For example, the syntax to access location zero of '<b>x_train</b>' is '<b>x_train$\\,$[$\\,0\\,$]</b>'.<br>\n",
    "\n",
    "We run the next code to get the $i^{th}\\,$ training example."
   ]
  },
  {
   "cell_type": "code",
   "execution_count": 9,
   "id": "12aaf00f-661c-4354-ab5b-4927cbf3dfa1",
   "metadata": {},
   "outputs": [
    {
     "name": "stdout",
     "output_type": "stream",
     "text": [
      "(x^0,y^(0)) = (1.0,300.0)\n",
      "(x^1,y^(1)) = (2.0,500.0)\n"
     ]
    }
   ],
   "source": [
    "i=[0,1]\n",
    "for i in i:\n",
    "    x_i=x_train[i]\n",
    "    y_i=y_train[i]\n",
    "    print(f\"(x^{i},y^({i})) = ({x_i},{y_i})\")"
   ]
  },
  {
   "cell_type": "markdown",
   "id": "4f71ac73-74a0-424b-98d5-81e2ca52c7e0",
   "metadata": {},
   "source": [
    "<br>"
   ]
  },
  {
   "cell_type": "markdown",
   "id": "719a106a-e1c3-45d0-9439-ab85cd8edbe9",
   "metadata": {},
   "source": [
    "## Plotting the data"
   ]
  },
  {
   "cell_type": "markdown",
   "id": "cf3a0550-1735-4141-a21a-26da80c14f6f",
   "metadata": {},
   "source": [
    "We can plot these two points using the '<b>scatter()</b>' function in the '<b>matplotlib</b>' library, as shown in the cell below.\n",
    "- The function arguments '<b>marker</b>' and '<b>c</b>' show the points as red crosses.\n"
   ]
  },
  {
   "cell_type": "code",
   "execution_count": 10,
   "id": "882dba29-59fd-4e89-a58a-5a94c3e402a7",
   "metadata": {},
   "outputs": [
    {
     "data": {
      "image/png": "[encoded data removed]",
      "text/plain": [
       "<Figure size 640x480 with 1 Axes>"
      ]
     },
     "metadata": {},
     "output_type": "display_data"
    }
   ],
   "source": [
    "# plot the data points\n",
    "plt.scatter(x_train, y_train, marker='x', c='r')\n",
    "\n",
    "# set the title\n",
    "plt.title(\"Housing prices\")\n",
    "\n",
    "# set the axes labels\n",
    "plt.xlabel(r'Size (1000 sqft) $ \\rightarrow $')\n",
    "plt.ylabel(r'Price (in 1000s of dollars) $ \\rightarrow $')\n",
    "plt.grid()\n",
    "plt.tight_layout()"
   ]
  },
  {
   "cell_type": "markdown",
   "id": "82bcdd0d-bfaa-4faa-8672-b8826e42021a",
   "metadata": {},
   "source": [
    "<br>"
   ]
  },
  {
   "attachments": {},
   "cell_type": "markdown",
   "id": "dafc46d6-2ffd-4710-839e-12b118ca88e3",
   "metadata": {},
   "source": [
    "## Model function\n"
   ]
  },
  {
   "cell_type": "markdown",
   "id": "b05aa466-d4e4-4722-808c-67b3b8967e45",
   "metadata": {},
   "source": [
    "The model function for linear regression (which is a function that maps from $x$ to $y$) is represented as\n",
    "\\begin{equation}\n",
    "    f_{w,b}\\,(x^{(i)})=wx^{(i)}+b \\tag{1}\n",
    "\\end{equation}"
   ]
  },
  {
   "cell_type": "markdown",
   "id": "403e831f-46b4-4096-8ffe-bca4ca34d717",
   "metadata": {},
   "source": [
    "The formula above is how you can represent straight lines - different values of $w$ and $b$ give you different straight lines on the plot."
   ]
  },
  {
   "cell_type": "markdown",
   "id": "e6a6be14-65f8-4dbd-a9cc-1f9f4772812b",
   "metadata": {},
   "source": [
    "Let's try to get a better intuition for this through the code blocks below. Let's start with $w=100$ and $b=100$."
   ]
  },
  {
   "cell_type": "code",
   "execution_count": 11,
   "id": "4e1e5a18-44a3-43b0-bdb4-b157f1e4e313",
   "metadata": {},
   "outputs": [
    {
     "name": "stdout",
     "output_type": "stream",
     "text": [
      "w:100\n",
      "b:100\n"
     ]
    }
   ],
   "source": [
    "w=100\n",
    "b=100\n",
    "print(f\"w:{w}\")\n",
    "print(f\"b:{b}\")"
   ]
  },
  {
   "cell_type": "markdown",
   "id": "30e37f62-7f44-4526-8786-9fab3a83f0c9",
   "metadata": {},
   "source": [
    "Now let's compute the value of $f_{w,b}\\,(x^{(i)})$ for our two data points. We can explicitly write this out for each data points as -<br>\n",
    "\n",
    "for $x^{\\,(0)}\\,$, <b>f_wb$\\,$=$\\,$w * x$\\,$[$\\,$0$\\,$]$\\,$+$\\,$b</b><br>\n",
    "for $x^{\\,(1)}\\,$, <b>f_wb$\\,$=$\\,$w * x$\\,$[$\\,$1$\\,$]$\\,$+$\\,$b</b><br>"
   ]
  },
  {
   "cell_type": "markdown",
   "id": "07195670-d617-4386-b103-5e8e415a7b44",
   "metadata": {},
   "source": [
    "For a large number of data points, this can get unwieldy and repetitive.<br>\n",
    "So instead, we can calculate the function output in a <b>for</b> loop as shown in the <b>compute_model_output</b> function shown below"
   ]
  },
  {
   "cell_type": "code",
   "execution_count": 12,
   "id": "4db9da2b-7597-41d6-b90f-51d4095c70e6",
   "metadata": {},
   "outputs": [],
   "source": [
    "def compute_model_output(x,w,b):\n",
    "    m=x.shape[0]\n",
    "    f_wb=np.zeros(m)\n",
    "    for i in range(m):\n",
    "        f_wb[i]=w*x[i]+b\n",
    "    return f_wb"
   ]
  },
  {
   "cell_type": "markdown",
   "id": "7ee6dc3b-98ca-4420-a274-5abd2dba4f31",
   "metadata": {},
   "source": [
    "<br>"
   ]
  },
  {
   "cell_type": "markdown",
   "id": "c145acb0-47d2-4bf7-a686-4bf4a87aa710",
   "metadata": {},
   "source": [
    "Now let's call the <b>compute_model_output</b> function and plot the output."
   ]
  },
  {
   "cell_type": "code",
   "execution_count": 13,
   "id": "a975ac0b-9437-4460-9dd4-49d76fcd3f39",
   "metadata": {},
   "outputs": [
    {
     "data": {
      "image/png": "[encoded data removed]",
      "text/plain": [
       "<Figure size 640x480 with 1 Axes>"
      ]
     },
     "metadata": {},
     "output_type": "display_data"
    }
   ],
   "source": [
    "tmp_f_wb=compute_model_output(x_train,w,b)\n",
    "\n",
    "# plot our model prediction\n",
    "plt.plot(x_train,tmp_f_wb,c='b',label='Our Prediction')\n",
    "\n",
    "# plot the data points\n",
    "plt.scatter(x_train, y_train, marker='x',c='r',label='Actual values')\n",
    "\n",
    "# set the title\n",
    "plt.title(\"Housing prices\")\n",
    "\n",
    "# set the axes labels\n",
    "plt.xlabel(r'Size (1000 sqft) $ \\rightarrow $')\n",
    "plt.ylabel(r'Price (in 1000s of dollars) $ \\rightarrow $')\n",
    "plt.grid()\n",
    "plt.legend()\n",
    "plt.tight_layout()\n"
   ]
  },
  {
   "cell_type": "markdown",
   "id": "d077bed4-1073-41ea-810e-a1bb566c5684",
   "metadata": {},
   "source": [
    "As we can see, setting $w=100$ and $b=100$ does not result in a line that fits our data."
   ]
  },
  {
   "cell_type": "markdown",
   "id": "09441ac6-004a-41c0-a4c7-2fc8f9ab9834",
   "metadata": {},
   "source": [
    "We may try experimenting with different values of $w$ and $b$.<br>\n",
    "\n",
    "We find $w=200$ and $b=100$ serves our purpose."
   ]
  },
  {
   "cell_type": "code",
   "execution_count": 15,
   "id": "3fae66a5-2164-4bd1-b0aa-c070c4c814e8",
   "metadata": {},
   "outputs": [
    {
     "data": {
      "image/png": "[encoded data removed]",
      "text/plain": [
       "<Figure size 640x480 with 1 Axes>"
      ]
     },
     "metadata": {},
     "output_type": "display_data"
    }
   ],
   "source": [
    "# assigning values to w and b\n",
    "w=200\n",
    "b=100\n",
    "\n",
    "tmp_f_wb=compute_model_output(x_train,w,b)\n",
    "\n",
    "# plot our model prediction\n",
    "plt.plot(x_train,tmp_f_wb,c='b',label='Our Prediction')\n",
    "\n",
    "# plot the data points\n",
    "plt.scatter(x_train, y_train, marker='x',c='r',label='Actual values')\n",
    "\n",
    "# set the title\n",
    "plt.title(\"Housing prices\")\n",
    "\n",
    "# set the axes labels\n",
    "plt.xlabel(r'Size (1000 sqft) $ \\rightarrow $')\n",
    "plt.ylabel(r'Price (in 1000s of dollars) $ \\rightarrow $')\n",
    "plt.grid()\n",
    "plt.legend()\n",
    "plt.tight_layout()"
   ]
  },
  {
   "cell_type": "markdown",
   "id": "c5bc489a-3dab-4bc8-878c-a6789116e2f8",
   "metadata": {},
   "source": [
    "<br>"
   ]
  },
  {
   "cell_type": "markdown",
   "id": "cd0c0e50-7e1f-4cb1-b218-12563b6f7d76",
   "metadata": {},
   "source": [
    "## Prediction\n",
    "Now that we have a model, we can use it to make our original prediction. Let's predict the price of a house with $1200$ sqft. Since the units of $x$ are in $1000$'s of sqft, $x$ is $1.2\\,$."
   ]
  },
  {
   "cell_type": "code",
   "execution_count": 16,
   "id": "a18704d0-0917-448f-b00d-a7dcc88b9d02",
   "metadata": {},
   "outputs": [
    {
     "name": "stdout",
     "output_type": "stream",
     "text": [
      "$340.000000 thousand dollars\n"
     ]
    }
   ],
   "source": [
    "w=200\n",
    "b=100\n",
    "x_i=1.2\n",
    "cost_1200sqft=w*x_i+b\n",
    "print(f\"${cost_1200sqft:0f} thousand dollars\")"
   ]
  },
  {
   "cell_type": "markdown",
   "id": "3b492e32-d6e4-4f11-b363-5196a0be2b18",
   "metadata": {},
   "source": [
    "<br>"
   ]
  },
  {
   "cell_type": "markdown",
   "id": "5a8b2f24-8165-44f2-b16b-d9f755dbcd77",
   "metadata": {},
   "source": [
    "## Congratulations!\n",
    "\n",
    "In this lab you have learned:\n",
    "- Linear regression builds a model which establishes a relationship between features and targets\n",
    "    - In the example above, the feature was house size and the target was house price\n",
    "    - For simple linear regression, the model has two parameters $w$ and $b$ whose values are <i>fit</i> using <i>training data</i>\n",
    "    - Once a model's parameters have been determined, the model can be used to make predictions on novel data.}"
   ]
  },
  {
   "cell_type": "markdown",
   "id": "b1ccb340-80a0-4362-be0e-a0622cf02755",
   "metadata": {},
   "source": [
    "---"
   ]
  },
  {
   "cell_type": "markdown",
   "id": "cd64805e-db31-43b1-82d1-2434719d7ba5",
   "metadata": {},
   "source": [
    "> ## <u> Optional Lab: Cost Function</u>"
   ]
  },
  {
   "cell_type": "markdown",
   "id": "3f38d469-2b8a-413b-8b43-11fdd72fc91c",
   "metadata": {},
   "source": [
    "## Goals\n",
    "In this lab we will\n",
    "- Implement and explore the <b>cost</b> function fo linear regression with one variable"
   ]
  },
  {
   "cell_type": "markdown",
   "id": "5810f638-8d65-45f7-abe5-abef710bfd26",
   "metadata": {},
   "source": [
    "## Tools\n",
    "In this lab, we will make use of\n",
    "- NumPy, a popular library for scientific computing\n",
    "- Matplotlib, a popular library for plotting data\n",
    "- local plotting routines in the lab_utils_uni.py file in the local directory"
   ]
  },
  {
   "cell_type": "markdown",
   "id": "4d0d090c-d4fb-414f-b015-0c7cca1b833d",
   "metadata": {},
   "source": [
    "Some local functions are not supported here.<br>\n",
    "Do check this ipynb file<br>\n",
    "https://www.coursera.org/learn/machine-learning/ungradedLab/udPHh/optional-lab-cost-function/lab?path=%2Fnotebooks%2FC1_W1_Lab03_Cost_function_Soln.ipynb"
   ]
  },
  {
   "cell_type": "markdown",
   "id": "18abe6f9-3a86-4a0c-be60-d75845864713",
   "metadata": {},
   "source": [
    "## Computing Cost\n",
    "The term 'cost' in this assignment might be a little confusing since the data is housing cost. Here, cost is a measure how well our model is predicting the target price of the house. The term 'price' is used for housing data.\n",
    "\n",
    "The equation for cost with one variable is:\n",
    "  $$J(w,b) = \\frac{1}{2m} \\sum\\limits_{i = 0}^{m-1} (f_{w,b}(x^{(i)}) - y^{(i)})^2 \\tag{1}$$ \n",
    " \n",
    "where \n",
    "  $$f_{w,b}(x^{(i)}) = wx^{(i)} + b \\tag{2}$$\n",
    "  \n",
    "- $f_{w,b}(x^{(i)})$ is our prediction for example $i$ using parameters $w,b$.  \n",
    "- $(f_{w,b}(x^{(i)}) -y^{(i)})^2$ is the squared difference between the target value and the prediction.   \n",
    "- These differences are summed over all the $m$ examples and divided by `2m` to produce the cost, $J(w,b)$.  \n",
    ">Note, in lecture summation ranges are typically from 1 to m, while code will be from 0 to m-1.\n"
   ]
  },
  {
   "cell_type": "markdown",
   "id": "c3dd161c-a2c3-4c50-b886-0b31f496be40",
   "metadata": {},
   "source": [
    "<br>"
   ]
  },
  {
   "cell_type": "markdown",
   "id": "2ecf8c69-36e6-43c9-af9b-0b0650593347",
   "metadata": {},
   "source": [
    "---"
   ]
  },
  {
   "cell_type": "markdown",
   "id": "ca1b516f-f128-459a-9856-4a647be9639e",
   "metadata": {},
   "source": [
    "<br>"
   ]
  },
  {
   "cell_type": "markdown",
   "id": "d8cdab14-b100-4ce3-b59f-4847475d553e",
   "metadata": {},
   "source": [
    "## <u>Optional Lab: Gradient Descent for Linear Regression</u>"
   ]
  },
  {
   "cell_type": "markdown",
   "id": "fdfe9135-e32d-46fe-82b0-f03d6ab5e014",
   "metadata": {},
   "source": [
    "## Goals\n",
    "In this lab, we will\n",
    "- Automate the process of optimizing $w$ and $b$ using gradient descent"
   ]
  },
  {
   "cell_type": "markdown",
   "id": "2f16912b-c4fa-45bd-9f82-964f3ee218d7",
   "metadata": {},
   "source": [
    "## Tools\n",
    "In this lab, we will make use of\n",
    "- NumPy, a popular library for scientific computing\n",
    "- Matplotlib, a popular library for plotting data"
   ]
  },
  {
   "cell_type": "code",
   "execution_count": 2,
   "id": "2990d7fa-b595-4613-858d-a70894329ddd",
   "metadata": {},
   "outputs": [],
   "source": [
    "import math, copy\n",
    "import numpy as np\n",
    "import matplotlib.pyplot as plt\n",
    "plt.style.use('deeplearning.mplstyle')"
   ]
  },
  {
   "cell_type": "markdown",
   "id": "a64d1cd0-f8f3-4fc7-87e2-86e0f686d07a",
   "metadata": {},
   "source": [
    "## Problem Statement\n",
    "Let's use the same two data points as before - a house with 1000 sqft sold for \\\\$300,000 and a house with 2000 sqft sold for \\\\$500,000"
   ]
  },
  {
   "cell_type": "markdown",
   "id": "14940c97-5ec9-457a-a11b-d351bee34b78",
   "metadata": {},
   "source": [
    "<img src=\"cml4.png\">"
   ]
  },
  {
   "cell_type": "code",
   "execution_count": 3,
   "id": "baa9f67c-4bac-44e2-83db-6b1555fc581d",
   "metadata": {},
   "outputs": [],
   "source": [
    "# load our data set\n",
    "x_train=np.array([1.0,2.0])\n",
    "y_train=np.array([300.0,500.0])"
   ]
  },
  {
   "cell_type": "markdown",
   "id": "708e11cd-1e3e-4604-acb1-605a2ed4f903",
   "metadata": {},
   "source": [
    "# Compute_cost\n",
    "This was developed in the last lab. We'll need it again here"
   ]
  },
  {
   "cell_type": "code",
   "execution_count": 4,
   "id": "acf72cd7-f4b6-4c87-9323-e2c4c25996f0",
   "metadata": {},
   "outputs": [],
   "source": [
    "# Function to calculate the cost\n",
    "def compute_cost(x,y,w,b):\n",
    "\n",
    "    m=x.shape[0]\n",
    "    coat=0\n",
    "\n",
    "    for i in range(m):\n",
    "        f_wb=w*x[i]+b\n",
    "        cost=cost+(f_wb -y[i])**2\n",
    "    total_cost=1/(2*m)*cost\n",
    "\n",
    "    return total_cost"
   ]
  },
  {
   "cell_type": "markdown",
   "id": "5205afcf-bfaa-47f5-b171-5db5d5f596b4",
   "metadata": {},
   "source": [
    "## Gradient descent summary"
   ]
  },
  {
   "cell_type": "markdown",
   "id": "0818ee8f-593e-4562-8bae-90e0b1ac3cbd",
   "metadata": {},
   "source": [
    "So far in this course, we have developed a linear model that predicts $f_{w,b}(x^{(i)})$:\n",
    "\\begin{equation}\n",
    "    f_{w,b}(x^{(i)})=wx^{(i)}+b \\tag{1}\n",
    "\\end{equation}"
   ]
  },
  {
   "cell_type": "markdown",
   "id": "e19eaddb-1edd-49fc-bf45-6082a87a0150",
   "metadata": {},
   "source": [
    "In linear regression, we utilize input training data to fit the parameters $w$,$b$ by minimizing a measure of the error between our predictions$f_{w,b}(x^{(i)})$ and the actual data $y^{(i)}$. The measure is called the <i>cost</i>, $J(w,b)$. In training we measure the cost over all of our training samples $x^{(i)}$, $y^{(i)}$"
   ]
  },
  {
   "cell_type": "markdown",
   "id": "267f5393-4e04-4cd8-bcf2-bf2c982bd259",
   "metadata": {},
   "source": [
    "\\begin{equation}\n",
    "J(w,b)=\\frac{1}{2m} \\sum^{m-1}_{i=0}(f_{w,b}(x^{(i)}) - y^{(i)})^2\\tag{2}\n",
    "\\end{equation}"
   ]
  },
  {
   "cell_type": "markdown",
   "id": "cb60fb11-c3ca-4468-892e-eb63209753db",
   "metadata": {},
   "source": [
    "In lecture, *gradient descent* was described as:\n",
    "\n",
    "$$\\begin{align*} \\text{repeat}&\\text{ until convergence:} \\; \\lbrace \\newline\n",
    "\\;  w &= w -  \\alpha \\frac{\\partial J(w,b)}{\\partial w} \\tag{3}  \\; \\newline \n",
    " b &= b -  \\alpha \\frac{\\partial J(w,b)}{\\partial b}  \\newline \\rbrace\n",
    "\\end{align*}$$\n",
    "where, parameters $w$, $b$ are updated simultaneously.  \n",
    "The gradient is defined as:\n",
    "$$\n",
    "\\begin{align}\n",
    "\\frac{\\partial J(w,b)}{\\partial w}  &= \\frac{1}{m} \\sum\\limits_{i = 0}^{m-1} (f_{w,b}(x^{(i)}) - y^{(i)})x^{(i)} \\tag{4}\\\\\n",
    "  \\frac{\\partial J(w,b)}{\\partial b}  &= \\frac{1}{m} \\sum\\limits_{i = 0}^{m-1} (f_{w,b}(x^{(i)}) - y^{(i)}) \\tag{5}\\\\\n",
    "\\end{align}\n",
    "$$\n",
    "\n",
    "Here *simultaniously* means that you calculate the partial derivatives for all the parameters before updating any of the parameters."
   ]
  },
  {
   "cell_type": "markdown",
   "id": "1be4b3ad-121f-46ce-b21c-670c0125e97f",
   "metadata": {},
   "source": [
    "## Implement Gradient Descent\n",
    "We will implement gradient descent algorithm for one feature. You will need three functions. \n",
    "- `compute_gradient` implementing equation (4) and (5) above\n",
    "- `compute_cost` implementing equation (2) above (code from previous lab)\n",
    "- `gradient_descent`, utilizing compute_gradient and compute_cost\n",
    "\n",
    "Conventions:\n",
    "- The naming of python variables containing partial derivatives follows this pattern,$\\frac{\\partial J(w,b)}{\\partial b}$  will be `dj_db`.\n",
    "- w.r.t is With Respect To, as in partial derivative of $J(wb)$ With Respect To $b$."
   ]
  },
  {
   "cell_type": "markdown",
   "id": "5dd56645-5f8f-47fb-bd8f-bea9f3d63f11",
   "metadata": {},
   "source": [
    "<br>\n",
    "Please refer to <br>\n",
    "<href=\"https://www.coursera.org/learn/machine-learning/ungradedLab/lE1al/optional-lab-gradient-descent/lab?path=%2Fnotebooks%2FC1_W1_Lab04_Gradient_Descent_Soln.ipynb>\n",
    "from now onwards."
   ]
  },
  {
   "cell_type": "code",
   "execution_count": null,
   "id": "8f7d317f-2211-4a4b-9ac7-b7f27d87d5c9",
   "metadata": {},
   "outputs": [],
   "source": []
  }
 ],
 "metadata": {
  "kernelspec": {
   "display_name": "Python 3 (ipykernel)",
   "language": "python",
   "name": "python3"
  },
  "language_info": {
   "codemirror_mode": {
    "name": "ipython",
    "version": 3
   },
   "file_extension": ".py",
   "mimetype": "text/x-python",
   "name": "python",
   "nbconvert_exporter": "python",
   "pygments_lexer": "ipython3",
   "version": "3.11.4"
  }
 },
 "nbformat": 4,
 "nbformat_minor": 5
}
